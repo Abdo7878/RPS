{
 "cells": [
  {
   "cell_type": "code",
   "execution_count": 1,
   "id": "f2e890a6",
   "metadata": {},
   "outputs": [],
   "source": [
    "import random "
   ]
  },
  {
   "cell_type": "code",
   "execution_count": 9,
   "id": "a6fad98b",
   "metadata": {},
   "outputs": [],
   "source": [
    "def play (inp) :\n",
    "    dec = {'r' : 1 , 'p' : 2 , 's' : 3}\n",
    "    try :\n",
    "        inp=inp.lower()\n",
    "        player = dec[inp]\n",
    "        comp = random.randint(1 , 3)\n",
    "        if comp == player :\n",
    "            print(\"draw\")\n",
    "        elif  (player == 1 and comp == 3) or (player == 2 and comp == 1) or (player == 3 and comp == 2) :\n",
    "            print (\"you win\")\n",
    "        else :\n",
    "            print(\"Eror!! please select from the following (r , p , s) \")\n",
    "    except : \n",
    "        print(\"error\")\n",
    "        "
   ]
  },
  {
   "cell_type": "code",
   "execution_count": 10,
   "id": "3f206486",
   "metadata": {},
   "outputs": [
    {
     "name": "stdout",
     "output_type": "stream",
     "text": [
      "Please select from the following (r , p , s):r\n",
      "you win\n",
      "do you want to try again ?!! ( y \\ n )y\n",
      "Please select from the following (r , p , s):R\n",
      "draw\n",
      "do you want to try again ?!! ( y \\ n )n\n"
     ]
    }
   ],
   "source": [
    "while True :\n",
    "    inp = input (\"Please select from the following (r , p , s):\") \n",
    "    play(inp)\n",
    "    ans = input (\"do you want to try again ?!! ( y \\ n )\")\n",
    "    ans.lower()\n",
    "    if ans == \"n\" :\n",
    "        break\n",
    "        "
   ]
  },
  {
   "cell_type": "code",
   "execution_count": null,
   "id": "405dd252",
   "metadata": {},
   "outputs": [],
   "source": []
  },
  {
   "cell_type": "code",
   "execution_count": null,
   "id": "cefd1dc5",
   "metadata": {},
   "outputs": [],
   "source": []
  }
 ],
 "metadata": {
  "kernelspec": {
   "display_name": "Python 3 (ipykernel)",
   "language": "python",
   "name": "python3"
  },
  "language_info": {
   "codemirror_mode": {
    "name": "ipython",
    "version": 3
   },
   "file_extension": ".py",
   "mimetype": "text/x-python",
   "name": "python",
   "nbconvert_exporter": "python",
   "pygments_lexer": "ipython3",
   "version": "3.11.3"
  }
 },
 "nbformat": 4,
 "nbformat_minor": 5
}
